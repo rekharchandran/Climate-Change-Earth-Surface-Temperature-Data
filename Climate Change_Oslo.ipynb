{
 "cells": [
  {
   "cell_type": "code",
   "execution_count": 12,
   "metadata": {},
   "outputs": [],
   "source": [
    "import pandas as pd\n",
    "import numpy as np \n",
    "import nltk\n",
    "import string\n",
    "import matplotlib.pyplot as plt\n",
    "%matplotlib inline\n",
    "import seaborn as sns\n",
    "import nltk\n",
    "import string\n",
    "from sklearn.preprocessing import LabelEncoder\n",
    "from sklearn.feature_extraction.text import CountVectorizer\n",
    "from sklearn.metrics import confusion_matrix\n",
    "from sklearn import metrics\n",
    "from sklearn.metrics import roc_curve, auc,accuracy_score,f1_score,precision_score,recall_score\n",
    "from sklearn.linear_model import ElasticNet, Lasso,  BayesianRidge, LassoLarsIC,Ridge\n",
    "from sklearn.kernel_ridge import KernelRidge\n",
    "from sklearn.pipeline import make_pipeline\n",
    "from sklearn.preprocessing import RobustScaler\n",
    "from sklearn.svm import LinearSVC\n",
    "from sklearn.base import BaseEstimator, TransformerMixin, RegressorMixin, clone\n",
    "from sklearn.model_selection import KFold, cross_val_score, train_test_split\n",
    "from sklearn.metrics import precision_score,recall_score,auc"
   ]
  },
  {
   "cell_type": "code",
   "execution_count": 2,
   "metadata": {},
   "outputs": [],
   "source": [
    "import warnings\n",
    "warnings.filterwarnings('ignore')"
   ]
  },
  {
   "cell_type": "markdown",
   "metadata": {},
   "source": [
    "### Loading the data set"
   ]
  },
  {
   "cell_type": "code",
   "execution_count": 4,
   "metadata": {},
   "outputs": [],
   "source": [
    "df = pd.read_csv(\"/Users/sarath/Documents/climate-change-earth-surface-temperature-data/GlobalLandTemperaturesByMajorCity.csv\")"
   ]
  },
  {
   "cell_type": "markdown",
   "metadata": {},
   "source": [
    "### Preprocessing "
   ]
  },
  {
   "cell_type": "code",
   "execution_count": 15,
   "metadata": {},
   "outputs": [
    {
     "ename": "SyntaxError",
     "evalue": "invalid syntax (<ipython-input-15-0d2b18a81e4f>, line 10)",
     "output_type": "error",
     "traceback": [
      "\u001b[0;36m  File \u001b[0;32m\"<ipython-input-15-0d2b18a81e4f>\"\u001b[0;36m, line \u001b[0;32m10\u001b[0m\n\u001b[0;31m    df_lat <- as.numeric(gsub(\"N|E|S|W\", \"\",df_Latitude))*\u001b[0m\n\u001b[0m         ^\u001b[0m\n\u001b[0;31mSyntaxError\u001b[0m\u001b[0;31m:\u001b[0m invalid syntax\n"
     ]
    }
   ],
   "source": [
    "# Subset to Oslo\n",
    "df <- df[City==\"Oslo\"]\n",
    "\n",
    "# Remove the missing values\n",
    "df <- na.omit(df)\n",
    "\n",
    "df['submitted_on'] = df['submitted_on'].apply(lambda x: dt.datetime.strptime(x, '%Y%m%d').date()\n",
    "                                              \n",
    "# Format Lattitude and Longitude to numeric values\n",
    "df_lat <- as.numeric(gsub(\"N|E|S|W\", \"\",df_Latitude))*\n",
    "  ifelse(grepl(\"S\",df_Latitude),-1,1)\n",
    "\n",
    "df$long<-as.numeric(gsub(\"N|E|S|W\", \"\",df$Longitude))*\n",
    "  ifelse(grepl(\"W\",df$Longitude),-1,1)\n",
    "\n",
    "# Create numeric/string month/year \n",
    "df$Month<-as.numeric(format(df$dt,\"%m\"))\n",
    "df$Month.String<-format(df$dt,\"%B\")\n",
    "df$Year<-as.numeric(format(df$dt,\"%Y\"))\n",
    "\n",
    "# Extract elevation and azimuth using sun position function\n",
    "sunpos <- with(df,sunPosition(Year,Month,1,12,0,0,lat,long))\n",
    "df$elevation<-sunpos$elevation\n",
    "df$azimuth<-sunpos$azimuth"
   ]
  },
  {
   "cell_type": "code",
   "execution_count": null,
   "metadata": {},
   "outputs": [],
   "source": []
  }
 ],
 "metadata": {
  "kernelspec": {
   "display_name": "Python 3",
   "language": "python",
   "name": "python3"
  },
  "language_info": {
   "codemirror_mode": {
    "name": "ipython",
    "version": 3
   },
   "file_extension": ".py",
   "mimetype": "text/x-python",
   "name": "python",
   "nbconvert_exporter": "python",
   "pygments_lexer": "ipython3",
   "version": "3.7.1"
  }
 },
 "nbformat": 4,
 "nbformat_minor": 2
}
